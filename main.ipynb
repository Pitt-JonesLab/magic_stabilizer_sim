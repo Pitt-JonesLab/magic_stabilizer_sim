{
 "cells": [
  {
   "cell_type": "code",
   "execution_count": 112,
   "metadata": {},
   "outputs": [],
   "source": [
    "from qiskit import QuantumCircuit, transpile\n",
    "from qiskit_aer import AerSimulator\n",
    "from qiskit.tools.visualization import plot_histogram\n",
    "\n",
    "import random\n"
   ]
  },
  {
   "cell_type": "code",
   "execution_count": 113,
   "metadata": {},
   "outputs": [],
   "source": [
    "ndim = 1"
   ]
  },
  {
   "cell_type": "code",
   "execution_count": 114,
   "metadata": {},
   "outputs": [],
   "source": [
    "from qiskit.quantum_info import Pauli\n",
    "from itertools import product\n",
    "\n",
    "# create n-qubit pauli operator set using cartesian product\n",
    "def create_pauli(ndim):\n",
    "    pauli_set = []\n",
    "    for i in product(['I', 'X', 'Y', 'Z'], repeat=ndim):\n",
    "        pauli_set.append(Pauli(''.join(i)))\n",
    "    \n",
    "    assert not(ndim==1) or len(pauli_set) == 4\n",
    "    assert not(ndim ==2) or len(pauli_set) == 16\n",
    "\n",
    "    return pauli_set\n",
    "\n",
    "# # create 2-qubit pauli operator set\n",
    "# pauli_set = create_pauli(ndim)"
   ]
  },
  {
   "cell_type": "code",
   "execution_count": 115,
   "metadata": {},
   "outputs": [],
   "source": [
    "import numpy as np\n",
    "from qiskit.quantum_info import random_clifford\n",
    "from qiskit.quantum_info import Statevector\n",
    "\n",
    "def create_stabilizer_set(ndim):\n",
    "    \"\"\"Monte-Carlo approach, set of states from random clifford group.\n",
    "    By definition, the stabilizer states are created by Clifford gates acting on |0\\>^{otimes n}\n",
    "    \"\"\"\n",
    "    N_cliff = max(2,ndim)**8 # defines the number of random Clifford circuits to generate\n",
    "    # NOTE increase until len(stabilizer_set) converges\n",
    "\n",
    "    stabilizer_set = []\n",
    "    for i in range(N_cliff):\n",
    "        # run random clifford \n",
    "        qc = QuantumCircuit(ndim)\n",
    "        qc.append(random_clifford(ndim), range(ndim))\n",
    "        # circuit to state\n",
    "        state = Statevector.from_instruction(qc)\n",
    "        # append to set\n",
    "        stabilizer_set.append(state)\n",
    "        # print(state)\n",
    "    \n",
    "    # drop duplicates (up to a global phase)\n",
    "    # use Statevector.equiv to check if two states are equivalent\n",
    "    for i in range(len(stabilizer_set)):\n",
    "        if stabilizer_set[i] is None:\n",
    "            continue\n",
    "        for j in range(i+1, len(stabilizer_set)):\n",
    "            if stabilizer_set[j] is None:\n",
    "                continue\n",
    "            if stabilizer_set[i].equiv(stabilizer_set[j]):\n",
    "                stabilizer_set[j] = None\n",
    "    stabilizer_set = [x for x in stabilizer_set if x is not None]\n",
    "    \n",
    "    assert not(ndim==1) or len(stabilizer_set) == 6\n",
    "    # for more than ndim, idk how many stabilizer states there are\n",
    "    return stabilizer_set"
   ]
  },
  {
   "attachments": {},
   "cell_type": "markdown",
   "metadata": {},
   "source": [
    "The optimization can be written in terms of a linear system as $$\\mathcal{R}(\\rho) = \\min || x ||_1 \\text{ subject to } Ax = b$$, where $||x||_1 = \\sum_i |x_i|$, $b_i = \\mathrm{Tr}{(P_i \\rho)}$, and $A_{j,i} = \\mathrm{Tr}{(P_j \\sigma_i)}$ where $P_j$ is the $j$-th Pauli operator."
   ]
  },
  {
   "cell_type": "code",
   "execution_count": 123,
   "metadata": {},
   "outputs": [],
   "source": [
    "# Reference: https://arxiv.org/abs/1609.07488\n",
    "\n",
    "def construct_A(ndim, pauli_set=None):\n",
    "    \"\"\"Constructs the A matrix for the stabilizer states\n",
    "    \"\"\"\n",
    "    if pauli_set is None:\n",
    "        pauli_set = create_pauli(ndim)\n",
    "    stabilizer_set = create_stabilizer_set(ndim)\n",
    "    A = np.zeros((len(pauli_set), len(stabilizer_set)), dtype=complex)\n",
    "    for i, state in enumerate(stabilizer_set):\n",
    "        for j, pauli in enumerate(pauli_set):\n",
    "            A[j,i] = state.expectation_value(pauli)\n",
    "    return A\n",
    "\n",
    "def construct_B(statevector, pauli_set=None):\n",
    "    \"\"\"Constructs the B matrix for the statevector\n",
    "    \"\"\"\n",
    "    if pauli_set is None:\n",
    "        pauli_set = create_pauli(ndim)\n",
    "    B = np.zeros((len(pauli_set),), dtype=complex)\n",
    "    for j, pauli in enumerate(pauli_set):\n",
    "        B[j] = statevector.expectation_value(pauli)\n",
    "    return B\n",
    "\n",
    "# construct_A(1)\n",
    "# construct_B(Statevector.from_label('0'))"
   ]
  },
  {
   "cell_type": "code",
   "execution_count": 135,
   "metadata": {},
   "outputs": [
    {
     "name": "stdout",
     "output_type": "stream",
     "text": [
      "1.4142135626928556\n",
      "1.747546895825713\n"
     ]
    }
   ],
   "source": [
    "import cvxpy as cp\n",
    "# NOTE use cvxpy because nonunique solution\n",
    "# we could solve Ax = b using numpy.linalg.lstsq\n",
    "# x, residuals, rank, s = np.linalg.lstsq(A, b, rcond=None)\n",
    "\n",
    "def robustness_of_magic(statevector) -> float:\n",
    "    \"\"\"Compute the robustness of a statevector\"\"\"\n",
    "    # first determine size of problem\n",
    "    ndim = int(np.log2(len(statevector)))\n",
    "    if ndim > 2:\n",
    "        raise ValueError(\"ndim too big, current implementation too slow\")\n",
    "    pauli_set = create_pauli(ndim)\n",
    "\n",
    "    # second construct the A matrix and b vector\n",
    "    A = construct_A(ndim, pauli_set)\n",
    "    b = construct_B(statevector, pauli_set)\n",
    "\n",
    "    # now solve the optimization problem \n",
    "    # min ||x||_1 s.t. Ax = b\n",
    "    x = cp.Variable(len(A[0]))\n",
    "    objective = cp.Minimize(cp.norm(x,1))\n",
    "    constraints = [A @ x == b]\n",
    "    prob = cp.Problem(objective, constraints)\n",
    "    prob.solve()\n",
    "    return prob.value\n",
    "\n",
    "# now we can compute the robustness of the magic state\n",
    "H = Statevector([1,np.exp(1j * np.pi/4)])/np.sqrt(2)\n",
    "# H.draw('bloch')\n",
    "\n",
    "# verify correctness of 1-qubit case\n",
    "rH = robustness_of_magic(H)\n",
    "print(rH)\n",
    "assert np.isclose(rH, np.sqrt(2))\n",
    "\n",
    "# verify correctness of 2-qubit case\n",
    "H2 = H.tensor(H)\n",
    "rH2 = robustness_of_magic(H2)\n",
    "print(rH2)\n",
    "assert np.isclose(rH2, (1 + 3*np.sqrt(2))/3)\n",
    "\n",
    "# verify correctness of 3-qubit case\n",
    "# scales so poorly :(\n",
    "# H3 = H2.tensor(H)\n",
    "# rH3 = robustness_of_magic(H3)\n",
    "# print(rH3)\n",
    "# assert np.isclose(rH3, (1 + 4*np.sqrt(2))/3)"
   ]
  },
  {
   "cell_type": "code",
   "execution_count": 226,
   "metadata": {},
   "outputs": [],
   "source": [
    "def robustness_to_gadgets(r, tolerance=0.1):\n",
    "    thresholds = [1.4142, 1.7476, 2.2190, 2.8627, 3.68705]\n",
    "    for i, threshold in enumerate(thresholds):\n",
    "        if r <= threshold + 1e-6:\n",
    "            return i "
   ]
  },
  {
   "cell_type": "code",
   "execution_count": 227,
   "metadata": {},
   "outputs": [],
   "source": [
    "# what is the robustness of CX?\n",
    "def gate_gadgets(qc):\n",
    "    # convert qc to statevector\n",
    "\n",
    "    # by definition, apply U to |+>^{otimes n} to  get |U>\n",
    "    # preprend Hadamard gates to qc\n",
    "    h_prep = QuantumCircuit(qc.num_qubits)\n",
    "    for i in range(qc.num_qubits):\n",
    "        h_prep.h(i)\n",
    "    qc = h_prep.compose(qc)\n",
    "\n",
    "    statevector = Statevector.from_instruction(qc)\n",
    "    # compute robustness\n",
    "    r = robustness_of_magic(statevector)\n",
    "    print(\"Robustness of Magic:\", r)\n",
    "    g = robustness_to_gadgets(r)\n",
    "    print(\"Minimal # of gadgets:\", g)\n",
    "    return g"
   ]
  },
  {
   "cell_type": "code",
   "execution_count": 228,
   "metadata": {},
   "outputs": [
    {
     "name": "stdout",
     "output_type": "stream",
     "text": [
      "Robustness of Magic: 1.000000000007496\n",
      "Minimal # of gadgets: 0\n"
     ]
    }
   ],
   "source": [
    "from qiskit.circuit.library import *\n",
    "qc = QuantumCircuit(2)\n",
    "# qc.append(CSGate(), [0,1])\n",
    "qc.append(CXGate(), [0,1])\n",
    "g = gate_gadgets(qc)"
   ]
  },
  {
   "cell_type": "code",
   "execution_count": 234,
   "metadata": {},
   "outputs": [
    {
     "name": "stdout",
     "output_type": "stream",
     "text": [
      "Robustness of Magic: 2.1481448980727103\n",
      "Minimal # of gadgets: 2\n"
     ]
    }
   ],
   "source": [
    "# next we can test how many gadgets would be used in qiskit implementations of gates\n",
    "# gadget decompositions are known for t, tdg, ccx, u1\n",
    "extended_stabilizer_simulator = AerSimulator(method='extended_stabilizer')\n",
    "from qiskit.quantum_info import random_unitary\n",
    "# transpile to CX and T\n",
    "qc = QuantumCircuit(2)\n",
    "qc.append(random_unitary(4), [0,1])\n",
    "transp_qc = transpile(qc, extended_stabilizer_simulator)\n",
    "g = gate_gadgets(qc)"
   ]
  },
  {
   "cell_type": "code",
   "execution_count": 235,
   "metadata": {},
   "outputs": [
    {
     "data": {
      "text/html": [
       "<pre style=\"word-wrap: normal;white-space: pre;background: #fff0;line-height: 1.1;font-family: &quot;Courier New&quot;,Courier,monospace\">global phase: 0.87352\n",
       "     ┌────────────┐┌────┐ ┌────────────┐┌────┐┌─────────────┐     »\n",
       "q_0: ┤ P(-1.6619) ├┤ √X ├─┤ P(-1.3302) ├┤ √X ├┤ P(-0.32551) ├──■──»\n",
       "     ├────────────┤├────┤┌┴────────────┤├────┤└┬───────────┬┘┌─┴─┐»\n",
       "q_1: ┤ P(-1.8821) ├┤ √X ├┤ P(-0.65957) ├┤ √X ├─┤ P(1.5642) ├─┤ X ├»\n",
       "     └────────────┘└────┘└─────────────┘└────┘ └───────────┘ └───┘»\n",
       "«       ┌─────────┐  ┌────┐┌────────────┐┌────┐  ┌────────┐       ┌─────────┐ »\n",
       "«q_0: ──┤ P(-π/2) ├──┤ √X ├┤ P(-2.1119) ├┤ √X ├──┤ P(π/2) ├───■───┤ P(-π/2) ├─»\n",
       "«     ┌─┴─────────┴─┐├────┤├────────────┤├────┤┌─┴────────┴┐┌─┴─┐┌┴─────────┴┐»\n",
       "«q_1: ┤ P(-0.98651) ├┤ √X ├┤ P(-2.3213) ├┤ √X ├┤ P(2.7179) ├┤ X ├┤ P(2.6039) ├»\n",
       "«     └─────────────┘└────┘└────────────┘└────┘└───────────┘└───┘└───────────┘»\n",
       "«     ┌────┐┌────────────┐┌────┐                   ┌────────────┐┌────┐»\n",
       "«q_0: ┤ √X ├┤ P(-3.0607) ├┤ √X ├────────────────■──┤ P(-2.6675) ├┤ √X ├»\n",
       "«     ├────┤├────────────┤├────┤┌────────────┐┌─┴─┐├────────────┤├────┤»\n",
       "«q_1: ┤ √X ├┤ P(-1.0508) ├┤ √X ├┤ P(0.69476) ├┤ X ├┤ P(-0.5608) ├┤ √X ├»\n",
       "«     └────┘└────────────┘└────┘└────────────┘└───┘└────────────┘└────┘»\n",
       "«     ┌────────────┐┌────┐ ┌───────────┐ \n",
       "«q_0: ┤ P(-2.2493) ├┤ √X ├─┤ P(2.7528) ├─\n",
       "«     ├────────────┤├────┤┌┴───────────┴┐\n",
       "«q_1: ┤ P(-1.0266) ├┤ √X ├┤ P(-0.16643) ├\n",
       "«     └────────────┘└────┘└─────────────┘</pre>"
      ],
      "text/plain": [
       "global phase: 0.87352\n",
       "     ┌────────────┐┌────┐ ┌────────────┐┌────┐┌─────────────┐     »\n",
       "q_0: ┤ P(-1.6619) ├┤ √X ├─┤ P(-1.3302) ├┤ √X ├┤ P(-0.32551) ├──■──»\n",
       "     ├────────────┤├────┤┌┴────────────┤├────┤└┬───────────┬┘┌─┴─┐»\n",
       "q_1: ┤ P(-1.8821) ├┤ √X ├┤ P(-0.65957) ├┤ √X ├─┤ P(1.5642) ├─┤ X ├»\n",
       "     └────────────┘└────┘└─────────────┘└────┘ └───────────┘ └───┘»\n",
       "«       ┌─────────┐  ┌────┐┌────────────┐┌────┐  ┌────────┐       ┌─────────┐ »\n",
       "«q_0: ──┤ P(-π/2) ├──┤ √X ├┤ P(-2.1119) ├┤ √X ├──┤ P(π/2) ├───■───┤ P(-π/2) ├─»\n",
       "«     ┌─┴─────────┴─┐├────┤├────────────┤├────┤┌─┴────────┴┐┌─┴─┐┌┴─────────┴┐»\n",
       "«q_1: ┤ P(-0.98651) ├┤ √X ├┤ P(-2.3213) ├┤ √X ├┤ P(2.7179) ├┤ X ├┤ P(2.6039) ├»\n",
       "«     └─────────────┘└────┘└────────────┘└────┘└───────────┘└───┘└───────────┘»\n",
       "«     ┌────┐┌────────────┐┌────┐                   ┌────────────┐┌────┐»\n",
       "«q_0: ┤ √X ├┤ P(-3.0607) ├┤ √X ├────────────────■──┤ P(-2.6675) ├┤ √X ├»\n",
       "«     ├────┤├────────────┤├────┤┌────────────┐┌─┴─┐├────────────┤├────┤»\n",
       "«q_1: ┤ √X ├┤ P(-1.0508) ├┤ √X ├┤ P(0.69476) ├┤ X ├┤ P(-0.5608) ├┤ √X ├»\n",
       "«     └────┘└────────────┘└────┘└────────────┘└───┘└────────────┘└────┘»\n",
       "«     ┌────────────┐┌────┐ ┌───────────┐ \n",
       "«q_0: ┤ P(-2.2493) ├┤ √X ├─┤ P(2.7528) ├─\n",
       "«     ├────────────┤├────┤┌┴───────────┴┐\n",
       "«q_1: ┤ P(-1.0266) ├┤ √X ├┤ P(-0.16643) ├\n",
       "«     └────────────┘└────┘└─────────────┘"
      ]
     },
     "execution_count": 235,
     "metadata": {},
     "output_type": "execute_result"
    }
   ],
   "source": [
    "transp_qc.draw()"
   ]
  }
 ],
 "metadata": {
  "kernelspec": {
   "display_name": ".venv",
   "language": "python",
   "name": "python3"
  },
  "language_info": {
   "codemirror_mode": {
    "name": "ipython",
    "version": 3
   },
   "file_extension": ".py",
   "mimetype": "text/x-python",
   "name": "python",
   "nbconvert_exporter": "python",
   "pygments_lexer": "ipython3",
   "version": "3.10.6"
  },
  "orig_nbformat": 4,
  "vscode": {
   "interpreter": {
    "hash": "d4072032d28c0df3d9e9c67d116f78e8fe37df43582fdc38a2d6ef4343d84c1a"
   }
  }
 },
 "nbformat": 4,
 "nbformat_minor": 2
}
